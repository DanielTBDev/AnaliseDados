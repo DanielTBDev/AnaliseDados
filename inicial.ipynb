{
 "cells": [
  {
   "cell_type": "markdown",
   "metadata": {},
   "source": [
    "# Python Insights - Analisando Dados com Python\n",
    "\n",
    "### Case - Cancelamento de Clientes\n",
    "\n",
    "Você foi contratado por uma empresa com mais de 800 mil clientes para um projeto de Dados. Recentemente a empresa percebeu que da sua base total de clientes, a maioria são clientes inativos, ou seja, que já cancelaram o serviço.\n",
    "\n",
    "Precisando melhorar seus resultados ela quer conseguir entender os principais motivos desses cancelamentos e quais as ações mais eficientes para reduzir esse número."
   ]
  },
  {
   "cell_type": "code",
   "execution_count": null,
   "metadata": {},
   "outputs": [],
   "source": [
    "import pandas as pd\n",
    "import plotly.express as px\n",
    "\n",
    "df_clientes = pd.read_csv('cancelamentos.csv')\n",
    "#Remover coluna não relevante para facilitar a análise\n",
    "df_clientes = df_clientes.drop(columns='CustomerID')"
   ]
  },
  {
   "cell_type": "code",
   "execution_count": null,
   "metadata": {},
   "outputs": [],
   "source": [
    "#Verificar valores nulos\n",
    "df_clientes.isna().sum()"
   ]
  },
  {
   "cell_type": "code",
   "execution_count": null,
   "metadata": {},
   "outputs": [],
   "source": [
    "#Como houveram poucas aparições de valores nulos, remover as linhas não irá impactar na análise final\n",
    "df_clientes = df_clientes.dropna()\n",
    "df_clientes.isna().sum()"
   ]
  },
  {
   "cell_type": "code",
   "execution_count": null,
   "metadata": {},
   "outputs": [],
   "source": [
    "#Verificar os tipos de dados\n",
    "df_clientes.dtypes"
   ]
  },
  {
   "cell_type": "code",
   "execution_count": null,
   "metadata": {},
   "outputs": [],
   "source": [
    "#Alteração dos tipos de dados, para melhorar a análise. Basicamente todos os dados float podem ser int.\n",
    "df_clientes['idade'] = df_clientes['idade'].astype(int)\n",
    "df_clientes['tempo_como_cliente'] = df_clientes['tempo_como_cliente'].astype(int)\n",
    "df_clientes['frequencia_uso'] = df_clientes['frequencia_uso'].astype(int)\n",
    "df_clientes['ligacoes_callcenter'] = df_clientes['ligacoes_callcenter'].astype(int)\n",
    "df_clientes['dias_atraso'] = df_clientes['dias_atraso'].astype(int)\n",
    "df_clientes['meses_ultima_interacao'] = df_clientes['meses_ultima_interacao'].astype(int)\n",
    "df_clientes['cancelou'] = df_clientes['cancelou'].astype(int)"
   ]
  },
  {
   "cell_type": "code",
   "execution_count": null,
   "metadata": {},
   "outputs": [],
   "source": [
    "#Simplificar a idade de clientes por faixa etária\n",
    "fe = []\n",
    "for i in df_clientes['idade']:\n",
    "    if i > 60:\n",
    "        fe.append('Idoso')\n",
    "    elif i > 50 and i <= 60:\n",
    "        fe.append('Meia Idade')\n",
    "    elif i > 24 and i <= 50:\n",
    "        fe.append('Adulto')\n",
    "    else:\n",
    "        fe.append('Jovem')\n",
    "df_clientes['faixa_etaria'] = fe\n",
    "\n",
    "#Eliminar a coluna idade\n",
    "df_clientes = df_clientes.drop(columns='idade')"
   ]
  },
  {
   "cell_type": "code",
   "execution_count": null,
   "metadata": {},
   "outputs": [],
   "source": [
    "#Simplificar o valor gasto, para entender melhor por meio de faixas de valor\n",
    "vg = []\n",
    "for i in df_clientes['total_gasto']:\n",
    "    if i < 250:\n",
    "        vg.append('1-250')\n",
    "    elif i >= 250 and i < 500:\n",
    "        vg.append('250-500')\n",
    "    elif i >= 500 and i < 750:\n",
    "        vg.append('500-750')\n",
    "    else:\n",
    "        vg.append('750+')\n",
    "df_clientes['faixa_gasto'] = vg\n",
    "\n",
    "df_clientes = df_clientes.drop(columns='total_gasto')"
   ]
  },
  {
   "cell_type": "code",
   "execution_count": null,
   "metadata": {},
   "outputs": [],
   "source": [
    "#Comparação de cancelamento\n",
    "df_clientes['cancelou'].value_counts(normalize=True)"
   ]
  },
  {
   "cell_type": "code",
   "execution_count": null,
   "metadata": {},
   "outputs": [],
   "source": [
    "df_clientes.columns"
   ]
  },
  {
   "cell_type": "code",
   "execution_count": null,
   "metadata": {},
   "outputs": [],
   "source": [
    "#Gráficos de análise\n",
    "for coluna in df_clientes.columns:\n",
    "    grafico = px.histogram(df_clientes, x=coluna, color=\"cancelou\", text_auto=True)\n",
    "    grafico.show()"
   ]
  },
  {
   "cell_type": "markdown",
   "metadata": {},
   "source": [
    "### Analisando os gráficos podemos concluir que:\n",
    "    \n",
    "1.  Usuários que tem seus problemas resolvidos mais rapidamente através de callcenter não precisando ligar mais vezes, tendem a cancelar menos. Uma solução seria emitir um alerta no sistema para usuários que já ligaram 3 vezes e não tiveram seus problemas resolvidos. Tendo em vista que a partir da quinta ligação a taxa de cancelamento é massivamente maior.\n",
    "\n",
    "2.  Usuários que contratam o plano mensal sempre cancelam. Ou seja, seria interessante tornar atrativo os outros tipos de assinatura, utilizando de benefícios a mais ou até descontos equivalentes a quantidade de tempo de plano assinada, trimestral ou anual.\n",
    "    Incentivar o usuário mensal a aderir os outros tipos de plano através de promoções e benefícios adicionais.\n",
    "\n",
    "3.  Usuários que atrasam por mais de 20 dias a conta, sempre cancelam. Uma solução seria sempre alertar o usuário quando estiver próximo ao pagamento e também conforme os dias de atraso se passam, lembrando-o de pagar e evitando o atraso, para que assim não acumule um pagamento em cima do outro, o que, geralmente, gera o cancelamento.\n",
    "\n",
    "4. Clientes que gastam abaixo de 500 sempre cancelam. Durante a adesão sempre incentivar ao consumo indicando de acordo com o perfil do cliente, para que torne mais suscetível a compra."
   ]
  }
 ],
 "metadata": {
  "kernelspec": {
   "display_name": "base",
   "language": "python",
   "name": "python3"
  },
  "language_info": {
   "codemirror_mode": {
    "name": "ipython",
    "version": 3
   },
   "file_extension": ".py",
   "mimetype": "text/x-python",
   "name": "python",
   "nbconvert_exporter": "python",
   "pygments_lexer": "ipython3",
   "version": "3.12.1"
  },
  "orig_nbformat": 4
 },
 "nbformat": 4,
 "nbformat_minor": 2
}
